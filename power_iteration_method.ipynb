{
 "cells": [
  {
   "cell_type": "code",
   "execution_count": 170,
   "metadata": {},
   "outputs": [],
   "source": [
    "import numpy as np\n",
    "import random\n",
    "from numpy import linalg as LA"
   ]
  },
  {
   "cell_type": "code",
   "execution_count": 171,
   "metadata": {},
   "outputs": [],
   "source": [
    "# C is the matrix of shape m x m\n",
    "# K is the number of eigenvectors to compute\n",
    "# k is number of iterations of the power iteration method\n",
    "\n",
    "def power_iteration(C, num_iters):\n",
    "    m = C.shape[1]\n",
    "    u_k = np.random.rand(m)\n",
    "    for i in range(num_iters):\n",
    "        u_k = C.dot(u_k)\n",
    "        u_k_norm = LA.norm(u_k)\n",
    "        u_k = u_k/u_k_norm\n",
    "    return u_k\n",
    "\n",
    "\n",
    "def compute_prinicipal_vecs(C, K, num_iters):\n",
    "\n",
    "    m = C.shape[0]    \n",
    "    eigen_values = []\n",
    "    eigen_vectors = []\n",
    "\n",
    "    C_ = C.copy()\n",
    "    \n",
    "    for i in range(K):\n",
    "        if not eigen_vectors:\n",
    "            u_k =  power_iteration(C_, num_iters)\n",
    "            eigen_val = (C_.dot(u_k)/u_k)[0]\n",
    "\n",
    "        else:\n",
    "            C_ -= eigen_values[-1]* (eigen_vectors[-1].reshape(m,1) @ eigen_vectors[-1].reshape(1,m))\n",
    "            u_k = power_iteration(C_, num_iters)\n",
    "            eigen_val = (C_.dot(u_k)/u_k)[0]\n",
    "            \n",
    "        eigen_vectors.append(u_k)\n",
    "        eigen_values.append(eigen_val)\n",
    "        \n",
    "    return (eigen_values, eigen_vectors)"
   ]
  },
  {
   "cell_type": "code",
   "execution_count": 172,
   "metadata": {},
   "outputs": [],
   "source": [
    "X_transpose = np.random.randn(10,12)\n",
    "C = (1/X_transpose.shape[1])*X_transpose.dot(X_transpose.T)"
   ]
  },
  {
   "cell_type": "code",
   "execution_count": 173,
   "metadata": {},
   "outputs": [],
   "source": [
    "eigen_values, eigen_vectors = compute_prinicipal_vecs(C, 10, 1000)"
   ]
  },
  {
   "cell_type": "code",
   "execution_count": 174,
   "metadata": {},
   "outputs": [
    {
     "name": "stdout",
     "output_type": "stream",
     "text": [
      "Eigenvalue = 3.427717271494299, eigenvector = [-0.65941418 -0.21770284 -0.18019983  0.12261758  0.20975724 -0.01414872\n",
      "  0.05722636  0.11922045  0.32993615  0.54747314]\n",
      "Eigenvalue = 2.181589148242358, eigenvector = [ 0.07167775  0.02099496  0.38632887  0.86582827  0.09731472 -0.03226021\n",
      "  0.25350403 -0.14330388  0.00905353 -0.01094435]\n",
      "Eigenvalue = 1.6783686618807483, eigenvector = [ 0.33468979 -0.37287474 -0.01542395 -0.24698739  0.27741192 -0.36381465\n",
      "  0.36610764 -0.4879145   0.3195155   0.06482675]\n",
      "Eigenvalue = 1.5001287476957064, eigenvector = [ 0.13429793 -0.06730285 -0.2639973   0.04921995  0.82025048  0.29743259\n",
      "  0.02335841  0.1625627  -0.32307817 -0.11264314]\n",
      "Eigenvalue = 1.1603881459681804, eigenvector = [-0.29049099 -0.26073885  0.50014978 -0.23204706  0.10244088 -0.18396732\n",
      "  0.32318976  0.47596871 -0.01394677 -0.41000506]\n",
      "Eigenvalue = 0.7707746538017975, eigenvector = [ 0.45255806  0.01214226 -0.03930457  0.14778645  0.10618726 -0.35193363\n",
      " -0.34134343  0.57992985  0.4129839   0.11460979]\n",
      "Eigenvalue = 0.4937320105627004, eigenvector = [ 0.1745549  -0.67899245  0.06427461  0.06516852 -0.22803137 -0.05832674\n",
      " -0.13948496  0.1055408  -0.54016029  0.34979039]\n",
      "Eigenvalue = 0.31715899963351973, eigenvector = [ 0.11373526  0.50995879  0.32416599 -0.23942071  0.14413386 -0.195774\n",
      "  0.25973699  0.09678398 -0.30848553  0.57749862]\n",
      "Eigenvalue = 0.07293482218490922, eigenvector = [ 0.28313222 -0.1325406   0.28787042 -0.14007285 -0.09332337  0.76040526\n",
      "  0.16930613  0.12278279  0.35137376  0.21365916]\n",
      "Eigenvalue = 0.016442950138464682, eigenvector = [ 0.13122218  0.04256218 -0.55187562  0.12249357 -0.30579655 -0.01688067\n",
      "  0.67921245  0.31987004 -0.05865425 -0.02268538]\n"
     ]
    }
   ],
   "source": [
    "for i in range(len(eigen_values)):\n",
    "    print (f\"Eigenvalue = {eigen_values[i]}, eigenvector = {eigen_vectors[i]}\")"
   ]
  },
  {
   "cell_type": "code",
   "execution_count": 175,
   "metadata": {},
   "outputs": [
    {
     "name": "stdout",
     "output_type": "stream",
     "text": [
      "Eigen Vectors using numpy library for cross-checking:\n",
      "Eigenvalue = 3.4277172714942985, eigenvector = [-0.65941418 -0.21770284 -0.18019983  0.12261758  0.20975724 -0.01414872\n",
      "  0.05722636  0.11922045  0.32993615  0.54747314]\n",
      "Eigenvalue = 2.181589148242357, eigenvector = [ 0.07167775  0.02099496  0.38632887  0.86582827  0.09731472 -0.03226021\n",
      "  0.25350403 -0.14330388  0.00905353 -0.01094435]\n",
      "Eigenvalue = 1.6783686618807474, eigenvector = [ 0.33468979 -0.37287474 -0.01542395 -0.24698739  0.27741192 -0.36381465\n",
      "  0.36610764 -0.4879145   0.3195155   0.06482675]\n",
      "Eigenvalue = 1.5001287476957055, eigenvector = [-0.13429793  0.06730285  0.2639973  -0.04921995 -0.82025048 -0.29743259\n",
      " -0.02335841 -0.1625627   0.32307817  0.11264314]\n",
      "Eigenvalue = 1.1603881459681804, eigenvector = [ 0.29049099  0.26073885 -0.50014978  0.23204706 -0.10244088  0.18396732\n",
      " -0.32318976 -0.47596871  0.01394677  0.41000506]\n",
      "Eigenvalue = 0.7707746538017973, eigenvector = [-0.45255806 -0.01214226  0.03930457 -0.14778645 -0.10618726  0.35193363\n",
      "  0.34134343 -0.57992985 -0.4129839  -0.11460979]\n",
      "Eigenvalue = 0.49373201056270055, eigenvector = [-0.1745549   0.67899245 -0.06427461 -0.06516852  0.22803137  0.05832674\n",
      "  0.13948496 -0.1055408   0.54016029 -0.34979039]\n",
      "Eigenvalue = 0.31715899963351984, eigenvector = [ 0.11373526  0.50995879  0.32416599 -0.23942071  0.14413386 -0.195774\n",
      "  0.25973699  0.09678398 -0.30848553  0.57749862]\n",
      "Eigenvalue = 0.072934822184909, eigenvector = [ 0.28313222 -0.1325406   0.28787042 -0.14007285 -0.09332337  0.76040526\n",
      "  0.16930613  0.12278279  0.35137376  0.21365916]\n",
      "Eigenvalue = 0.01644295013846468, eigenvector = [-0.13122218 -0.04256218  0.55187562 -0.12249357  0.30579655  0.01688067\n",
      " -0.67921245 -0.31987004  0.05865425  0.02268538]\n"
     ]
    }
   ],
   "source": [
    "evals, evecs = np.linalg.eigh(C)\n",
    "print (f\"Eigen Vectors using numpy library for cross-checking:\")\n",
    "\n",
    "for i in range(len(evals)-1, -1, -1):\n",
    "    print (f\"Eigenvalue = {evals[i]}, eigenvector = {evecs.T[i]}\")"
   ]
  },
  {
   "cell_type": "code",
   "execution_count": null,
   "metadata": {},
   "outputs": [],
   "source": []
  }
 ],
 "metadata": {
  "kernelspec": {
   "display_name": "Python 3",
   "language": "python",
   "name": "python3"
  },
  "language_info": {
   "codemirror_mode": {
    "name": "ipython",
    "version": 3
   },
   "file_extension": ".py",
   "mimetype": "text/x-python",
   "name": "python",
   "nbconvert_exporter": "python",
   "pygments_lexer": "ipython3",
   "version": "3.7.4"
  }
 },
 "nbformat": 4,
 "nbformat_minor": 2
}
